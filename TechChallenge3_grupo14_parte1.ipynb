{
  "nbformat": 4,
  "nbformat_minor": 0,
  "metadata": {
    "colab": {
      "provenance": []
    },
    "kernelspec": {
      "name": "python3",
      "display_name": "Python 3"
    },
    "language_info": {
      "name": "python"
    }
  },
  "cells": [
    {
      "cell_type": "markdown",
      "source": [
        "# **FIAP Pós-Tech - IA para Devs**"
      ],
      "metadata": {
        "id": "lrTAcuHVEonp"
      }
    },
    {
      "cell_type": "markdown",
      "source": [
        "## Grupo 14 (1IADT) - Alunos"
      ],
      "metadata": {
        "id": "VHe48rlSEupL"
      }
    },
    {
      "cell_type": "markdown",
      "source": [
        "* Marcelo Henriques da Fonseca - RM353865\n",
        "* Marcos Lopes da Silva Junior - RM353763\n",
        "* Ricardo Báfica Pontes - RM353866"
      ],
      "metadata": {
        "id": "Aa2eTHEqE0TY"
      }
    },
    {
      "cell_type": "markdown",
      "source": [
        "# **Descrição do projeto**"
      ],
      "metadata": {
        "id": "dRVJ6gTuE5TJ"
      }
    },
    {
      "cell_type": "markdown",
      "source": [
        "## O problema"
      ],
      "metadata": {
        "id": "lxVhSNh5E6d3"
      }
    },
    {
      "cell_type": "markdown",
      "source": [
        "No Tech Challenge desta fase, você precisa executar o fine-tuning de um\n",
        "foundation model (Llama, BERT, MISTRAL etc.), utilizando o dataset \"The\n",
        "AmazonTitles-1.3MM\". O modelo treinado deverá:\n",
        "- Receber perguntas com um contexto obtido por meio do arquivo json\n",
        "“trn.json” que está contido dentro do dataset.\n",
        "- A partir do prompt formado pela pergunta do usuário sobre o título do\n",
        "produto, o modelo deverá gerar uma resposta baseada na pergunta do\n",
        "usuário trazendo como resultado do aprendizado do fine-tuning os\n",
        "dados da sua descrição."
      ],
      "metadata": {
        "id": "2__EacbOE-iB"
      }
    },
    {
      "cell_type": "markdown",
      "source": [
        "## Fluxo de Trabalho Atualizado"
      ],
      "metadata": {
        "id": "ETsVXCIfFeyS"
      }
    },
    {
      "cell_type": "markdown",
      "source": [
        "**1. Escolha do Dataset:**\n",
        "\n",
        "\n",
        "**Descrição:** o The AmazonTitles-1.3MM consiste em consultas textuais\n",
        "reais de usuários e títulos associados de produtos relevantes encontrados na\n",
        "Amazon e suas descrições, medidos por ações implícitas ou explícitas dos\n",
        "usuários."
      ],
      "metadata": {
        "id": "tHQ69h7UhTrv"
      }
    },
    {
      "cell_type": "markdown",
      "source": [
        "**2. Preparação do Dataset:**\n",
        "\n",
        "Faça o download do dataset AmazonTitles-1.3MM e utilize o arquivo\n",
        "“trn.json”. Nele, você utilizará as colunas “title” e “content”, que contêm título e\n",
        "descrição respectivamente. Prepare os prompts para o fine-tuning garantindo\n",
        "que estejam organizados de maneira adequada para o treinamento do modelo escolhido. Limpe e pré-processe os dados conforme necessário para o\n",
        "modelo escolhido.\n"
      ],
      "metadata": {
        "id": "8cdU9Hp9hr9_"
      }
    },
    {
      "cell_type": "markdown",
      "source": [
        "**3. Chamada do Foundation Model**\n",
        "\n",
        "Importe o foundation model que será utilizado e faça um teste apresentando o resultado atual do modelo antes do treinamento (para que se obtenha uma base de análise após o fine-tuning), e então será possível avaliar a diferença do resultado gerado.\n"
      ],
      "metadata": {
        "id": "hwwS4mzOh4up"
      }
    },
    {
      "cell_type": "markdown",
      "source": [
        "**4. Execução do Fine-Tuning:**\n",
        "\n",
        "Execute o fine-tuning do foundation model selecionado (por exemplo, BERT, GPT, Llama) utilizando o dataset preparado. Documente o processo de fine-tuning, incluindo os parâmetros utilizados e qualquer ajuste específico realizado no modelo.\n"
      ],
      "metadata": {
        "id": "F3hwKutehbvw"
      }
    },
    {
      "cell_type": "markdown",
      "source": [
        "**5. Geração de Respostas:**\n",
        "\n",
        "Configure o modelo treinado para receber perguntas dos usuários. O modelo deverá gerar uma resposta baseada na pergunta do usuário e nos dados provenientes do fine-tuning, incluindo as fontes fornecidas.\n"
      ],
      "metadata": {
        "id": "0ndtzevHhfsf"
      }
    },
    {
      "cell_type": "markdown",
      "source": [
        "## Entregável"
      ],
      "metadata": {
        "id": "6S7DNLFZie_q"
      }
    },
    {
      "cell_type": "markdown",
      "source": [
        "- Documento detalhando o processo de seleção e preparação do dataset.\n",
        "- Descrição do processo de fine-tuning do modelo, com detalhes dos parâmetros e ajustes utilizados. Código-fonte do processo de finetuning.\n",
        "- Um vídeo demonstrando o modelo treinado gerando respostas a partir de perguntas do usuário e utilizando o contexto obtido por meio treinamento com o fine-tuning."
      ],
      "metadata": {
        "id": "bliUOqt6ih44"
      }
    },
    {
      "cell_type": "markdown",
      "source": [
        "# **Projeto**"
      ],
      "metadata": {
        "id": "o91PEu1uixMI"
      }
    },
    {
      "cell_type": "markdown",
      "source": [
        "## Carregando o arquivo JSON"
      ],
      "metadata": {
        "id": "YbNCGhcKjCrp"
      }
    },
    {
      "cell_type": "code",
      "source": [
        "# imports\n",
        "import pandas as pd\n",
        "import numpy as np\n",
        "import json\n",
        "import html\n",
        "from google.colab import drive"
      ],
      "metadata": {
        "id": "HsWt5xL4sX5m"
      },
      "execution_count": 26,
      "outputs": []
    },
    {
      "cell_type": "markdown",
      "source": [
        "Primeiro vamos carregar o arquivo JSON que será utilizado no nosso fine-tuning."
      ],
      "metadata": {
        "id": "T70uYscojc0Y"
      }
    },
    {
      "cell_type": "markdown",
      "source": [
        "Vamos utilizar algumas estratégias para agilizar a leitura do arquivo:\n",
        "\n",
        "- Ler e processar o arquivo em blocos (chunks), ao invés de linha-a-linha, reduz o overhead de leitura frequente de disco.\n",
        "- Adicionar linha-a-linha no DataFrame pode ser uma operação custosa. Em vez disso, podemos amazenar os dados em uma lista temporária e criar o DataFrame com uma única operação."
      ],
      "metadata": {
        "id": "oTJ8SoX03EOB"
      }
    },
    {
      "cell_type": "markdown",
      "source": [
        "Também podemos utilizar o \"html.unescape(xxx)\" para tratar os caracteres especias e deixar nossos dados mais legíveis."
      ],
      "metadata": {
        "id": "VwhiIB2N4dnC"
      }
    },
    {
      "cell_type": "code",
      "source": [
        "# Função para processar e limpar um bloco de dados\n",
        "def processar_bloco(bloco):\n",
        "    dados = []\n",
        "    for line in bloco:\n",
        "        try:\n",
        "            json_data = json.loads(line)\n",
        "            title = html.unescape(json_data['title'])\n",
        "            content = html.unescape(json_data['content'])\n",
        "            dados.append([title, content])\n",
        "        except json.JSONDecodeError:\n",
        "            continue\n",
        "    return pd.DataFrame(dados, columns=['title', 'content'])"
      ],
      "metadata": {
        "id": "O_QuUzGVlZls"
      },
      "execution_count": 27,
      "outputs": []
    },
    {
      "cell_type": "code",
      "source": [
        "# Função para carregar o JSON em blocos e processar\n",
        "def carregar_json(arquivo_json, tamanho_bloco):\n",
        "    df_final = pd.DataFrame(columns=['title', 'content'])\n",
        "    bloco = []\n",
        "\n",
        "    with open(arquivo_json, 'r', newline='\\n') as f:\n",
        "        for line in f:\n",
        "            bloco.append(line)\n",
        "\n",
        "            if len(bloco) >= tamanho_bloco:\n",
        "                df_bloco = processar_bloco(bloco)\n",
        "                df_final = pd.concat([df_final, df_bloco], ignore_index=True)\n",
        "                bloco = []\n",
        "\n",
        "        if bloco:\n",
        "            df_bloco = processar_bloco(bloco)\n",
        "            df_final = pd.concat([df_final, df_bloco], ignore_index=True)\n",
        "\n",
        "    return df_final, len(df_final)"
      ],
      "metadata": {
        "id": "JX_9KjHfLlJf"
      },
      "execution_count": 28,
      "outputs": []
    },
    {
      "cell_type": "markdown",
      "source": [
        "Neste caso, vamos optar por usar o arquivo direto do Google Drive."
      ],
      "metadata": {
        "id": "bYwX2eYxhxrU"
      }
    },
    {
      "cell_type": "code",
      "source": [
        "# Tamanho do bloco\n",
        "tamanho_bloco = 50000\n",
        "\n",
        "# Montar o Google Drive\n",
        "drive.mount('/content/drive')\n",
        "\n",
        "# Caminho para o arquivo JSON no Google Drive\n",
        "arquivo_json = '/content/drive/My Drive/FIAP/IA_para_Devs/Tech_Challenge_3/trn.json'\n",
        "\n",
        "# Chamando a função otimizada\n",
        "df, qtd_linhas = carregar_json(arquivo_json, tamanho_bloco)\n",
        "\n",
        "# Saída de verificação\n",
        "print(f'Linhas processadas: {qtd_linhas}')"
      ],
      "metadata": {
        "colab": {
          "base_uri": "https://localhost:8080/"
        },
        "id": "I-OGzs4pxuXc",
        "outputId": "8f39f19d-f1ac-4151-8be0-29e697e9ef07"
      },
      "execution_count": 29,
      "outputs": [
        {
          "output_type": "stream",
          "name": "stdout",
          "text": [
            "Drive already mounted at /content/drive; to attempt to forcibly remount, call drive.mount(\"/content/drive\", force_remount=True).\n",
            "Linhas processadas: 2248619\n"
          ]
        }
      ]
    },
    {
      "cell_type": "markdown",
      "source": [
        "## Analisando e tratando os dados"
      ],
      "metadata": {
        "id": "_owYIwfUyrZ4"
      }
    },
    {
      "cell_type": "code",
      "source": [
        "# Comando para verificar as primeiras linhas do DataFrame\n",
        "df.head()"
      ],
      "metadata": {
        "colab": {
          "base_uri": "https://localhost:8080/",
          "height": 206
        },
        "id": "EgWira1Jy7E-",
        "outputId": "e2f3dcd3-663a-431b-9702-c294cbcc7240"
      },
      "execution_count": 30,
      "outputs": [
        {
          "output_type": "execute_result",
          "data": {
            "text/plain": [
              "                                               title  \\\n",
              "0                        Girls Ballet Tutu Neon Pink   \n",
              "1                           Adult Ballet Tutu Yellow   \n",
              "2  The Way Things Work: An Illustrated Encycloped...   \n",
              "3                                      Mog's Kittens   \n",
              "4                              Misty of Chincoteague   \n",
              "\n",
              "                                             content  \n",
              "0  High quality 3 layer ballet tutu. 12 inches in...  \n",
              "1                                                     \n",
              "2                                                     \n",
              "3  Judith Kerr’s best–selling adventures of that ...  \n",
              "4                                                     "
            ],
            "text/html": [
              "\n",
              "  <div id=\"df-8cab3657-7b93-4b5b-a26d-13289847d664\" class=\"colab-df-container\">\n",
              "    <div>\n",
              "<style scoped>\n",
              "    .dataframe tbody tr th:only-of-type {\n",
              "        vertical-align: middle;\n",
              "    }\n",
              "\n",
              "    .dataframe tbody tr th {\n",
              "        vertical-align: top;\n",
              "    }\n",
              "\n",
              "    .dataframe thead th {\n",
              "        text-align: right;\n",
              "    }\n",
              "</style>\n",
              "<table border=\"1\" class=\"dataframe\">\n",
              "  <thead>\n",
              "    <tr style=\"text-align: right;\">\n",
              "      <th></th>\n",
              "      <th>title</th>\n",
              "      <th>content</th>\n",
              "    </tr>\n",
              "  </thead>\n",
              "  <tbody>\n",
              "    <tr>\n",
              "      <th>0</th>\n",
              "      <td>Girls Ballet Tutu Neon Pink</td>\n",
              "      <td>High quality 3 layer ballet tutu. 12 inches in...</td>\n",
              "    </tr>\n",
              "    <tr>\n",
              "      <th>1</th>\n",
              "      <td>Adult Ballet Tutu Yellow</td>\n",
              "      <td></td>\n",
              "    </tr>\n",
              "    <tr>\n",
              "      <th>2</th>\n",
              "      <td>The Way Things Work: An Illustrated Encycloped...</td>\n",
              "      <td></td>\n",
              "    </tr>\n",
              "    <tr>\n",
              "      <th>3</th>\n",
              "      <td>Mog's Kittens</td>\n",
              "      <td>Judith Kerr’s best–selling adventures of that ...</td>\n",
              "    </tr>\n",
              "    <tr>\n",
              "      <th>4</th>\n",
              "      <td>Misty of Chincoteague</td>\n",
              "      <td></td>\n",
              "    </tr>\n",
              "  </tbody>\n",
              "</table>\n",
              "</div>\n",
              "    <div class=\"colab-df-buttons\">\n",
              "\n",
              "  <div class=\"colab-df-container\">\n",
              "    <button class=\"colab-df-convert\" onclick=\"convertToInteractive('df-8cab3657-7b93-4b5b-a26d-13289847d664')\"\n",
              "            title=\"Convert this dataframe to an interactive table.\"\n",
              "            style=\"display:none;\">\n",
              "\n",
              "  <svg xmlns=\"http://www.w3.org/2000/svg\" height=\"24px\" viewBox=\"0 -960 960 960\">\n",
              "    <path d=\"M120-120v-720h720v720H120Zm60-500h600v-160H180v160Zm220 220h160v-160H400v160Zm0 220h160v-160H400v160ZM180-400h160v-160H180v160Zm440 0h160v-160H620v160ZM180-180h160v-160H180v160Zm440 0h160v-160H620v160Z\"/>\n",
              "  </svg>\n",
              "    </button>\n",
              "\n",
              "  <style>\n",
              "    .colab-df-container {\n",
              "      display:flex;\n",
              "      gap: 12px;\n",
              "    }\n",
              "\n",
              "    .colab-df-convert {\n",
              "      background-color: #E8F0FE;\n",
              "      border: none;\n",
              "      border-radius: 50%;\n",
              "      cursor: pointer;\n",
              "      display: none;\n",
              "      fill: #1967D2;\n",
              "      height: 32px;\n",
              "      padding: 0 0 0 0;\n",
              "      width: 32px;\n",
              "    }\n",
              "\n",
              "    .colab-df-convert:hover {\n",
              "      background-color: #E2EBFA;\n",
              "      box-shadow: 0px 1px 2px rgba(60, 64, 67, 0.3), 0px 1px 3px 1px rgba(60, 64, 67, 0.15);\n",
              "      fill: #174EA6;\n",
              "    }\n",
              "\n",
              "    .colab-df-buttons div {\n",
              "      margin-bottom: 4px;\n",
              "    }\n",
              "\n",
              "    [theme=dark] .colab-df-convert {\n",
              "      background-color: #3B4455;\n",
              "      fill: #D2E3FC;\n",
              "    }\n",
              "\n",
              "    [theme=dark] .colab-df-convert:hover {\n",
              "      background-color: #434B5C;\n",
              "      box-shadow: 0px 1px 3px 1px rgba(0, 0, 0, 0.15);\n",
              "      filter: drop-shadow(0px 1px 2px rgba(0, 0, 0, 0.3));\n",
              "      fill: #FFFFFF;\n",
              "    }\n",
              "  </style>\n",
              "\n",
              "    <script>\n",
              "      const buttonEl =\n",
              "        document.querySelector('#df-8cab3657-7b93-4b5b-a26d-13289847d664 button.colab-df-convert');\n",
              "      buttonEl.style.display =\n",
              "        google.colab.kernel.accessAllowed ? 'block' : 'none';\n",
              "\n",
              "      async function convertToInteractive(key) {\n",
              "        const element = document.querySelector('#df-8cab3657-7b93-4b5b-a26d-13289847d664');\n",
              "        const dataTable =\n",
              "          await google.colab.kernel.invokeFunction('convertToInteractive',\n",
              "                                                    [key], {});\n",
              "        if (!dataTable) return;\n",
              "\n",
              "        const docLinkHtml = 'Like what you see? Visit the ' +\n",
              "          '<a target=\"_blank\" href=https://colab.research.google.com/notebooks/data_table.ipynb>data table notebook</a>'\n",
              "          + ' to learn more about interactive tables.';\n",
              "        element.innerHTML = '';\n",
              "        dataTable['output_type'] = 'display_data';\n",
              "        await google.colab.output.renderOutput(dataTable, element);\n",
              "        const docLink = document.createElement('div');\n",
              "        docLink.innerHTML = docLinkHtml;\n",
              "        element.appendChild(docLink);\n",
              "      }\n",
              "    </script>\n",
              "  </div>\n",
              "\n",
              "\n",
              "<div id=\"df-327b06ab-31ed-4a74-b549-426212b32c15\">\n",
              "  <button class=\"colab-df-quickchart\" onclick=\"quickchart('df-327b06ab-31ed-4a74-b549-426212b32c15')\"\n",
              "            title=\"Suggest charts\"\n",
              "            style=\"display:none;\">\n",
              "\n",
              "<svg xmlns=\"http://www.w3.org/2000/svg\" height=\"24px\"viewBox=\"0 0 24 24\"\n",
              "     width=\"24px\">\n",
              "    <g>\n",
              "        <path d=\"M19 3H5c-1.1 0-2 .9-2 2v14c0 1.1.9 2 2 2h14c1.1 0 2-.9 2-2V5c0-1.1-.9-2-2-2zM9 17H7v-7h2v7zm4 0h-2V7h2v10zm4 0h-2v-4h2v4z\"/>\n",
              "    </g>\n",
              "</svg>\n",
              "  </button>\n",
              "\n",
              "<style>\n",
              "  .colab-df-quickchart {\n",
              "      --bg-color: #E8F0FE;\n",
              "      --fill-color: #1967D2;\n",
              "      --hover-bg-color: #E2EBFA;\n",
              "      --hover-fill-color: #174EA6;\n",
              "      --disabled-fill-color: #AAA;\n",
              "      --disabled-bg-color: #DDD;\n",
              "  }\n",
              "\n",
              "  [theme=dark] .colab-df-quickchart {\n",
              "      --bg-color: #3B4455;\n",
              "      --fill-color: #D2E3FC;\n",
              "      --hover-bg-color: #434B5C;\n",
              "      --hover-fill-color: #FFFFFF;\n",
              "      --disabled-bg-color: #3B4455;\n",
              "      --disabled-fill-color: #666;\n",
              "  }\n",
              "\n",
              "  .colab-df-quickchart {\n",
              "    background-color: var(--bg-color);\n",
              "    border: none;\n",
              "    border-radius: 50%;\n",
              "    cursor: pointer;\n",
              "    display: none;\n",
              "    fill: var(--fill-color);\n",
              "    height: 32px;\n",
              "    padding: 0;\n",
              "    width: 32px;\n",
              "  }\n",
              "\n",
              "  .colab-df-quickchart:hover {\n",
              "    background-color: var(--hover-bg-color);\n",
              "    box-shadow: 0 1px 2px rgba(60, 64, 67, 0.3), 0 1px 3px 1px rgba(60, 64, 67, 0.15);\n",
              "    fill: var(--button-hover-fill-color);\n",
              "  }\n",
              "\n",
              "  .colab-df-quickchart-complete:disabled,\n",
              "  .colab-df-quickchart-complete:disabled:hover {\n",
              "    background-color: var(--disabled-bg-color);\n",
              "    fill: var(--disabled-fill-color);\n",
              "    box-shadow: none;\n",
              "  }\n",
              "\n",
              "  .colab-df-spinner {\n",
              "    border: 2px solid var(--fill-color);\n",
              "    border-color: transparent;\n",
              "    border-bottom-color: var(--fill-color);\n",
              "    animation:\n",
              "      spin 1s steps(1) infinite;\n",
              "  }\n",
              "\n",
              "  @keyframes spin {\n",
              "    0% {\n",
              "      border-color: transparent;\n",
              "      border-bottom-color: var(--fill-color);\n",
              "      border-left-color: var(--fill-color);\n",
              "    }\n",
              "    20% {\n",
              "      border-color: transparent;\n",
              "      border-left-color: var(--fill-color);\n",
              "      border-top-color: var(--fill-color);\n",
              "    }\n",
              "    30% {\n",
              "      border-color: transparent;\n",
              "      border-left-color: var(--fill-color);\n",
              "      border-top-color: var(--fill-color);\n",
              "      border-right-color: var(--fill-color);\n",
              "    }\n",
              "    40% {\n",
              "      border-color: transparent;\n",
              "      border-right-color: var(--fill-color);\n",
              "      border-top-color: var(--fill-color);\n",
              "    }\n",
              "    60% {\n",
              "      border-color: transparent;\n",
              "      border-right-color: var(--fill-color);\n",
              "    }\n",
              "    80% {\n",
              "      border-color: transparent;\n",
              "      border-right-color: var(--fill-color);\n",
              "      border-bottom-color: var(--fill-color);\n",
              "    }\n",
              "    90% {\n",
              "      border-color: transparent;\n",
              "      border-bottom-color: var(--fill-color);\n",
              "    }\n",
              "  }\n",
              "</style>\n",
              "\n",
              "  <script>\n",
              "    async function quickchart(key) {\n",
              "      const quickchartButtonEl =\n",
              "        document.querySelector('#' + key + ' button');\n",
              "      quickchartButtonEl.disabled = true;  // To prevent multiple clicks.\n",
              "      quickchartButtonEl.classList.add('colab-df-spinner');\n",
              "      try {\n",
              "        const charts = await google.colab.kernel.invokeFunction(\n",
              "            'suggestCharts', [key], {});\n",
              "      } catch (error) {\n",
              "        console.error('Error during call to suggestCharts:', error);\n",
              "      }\n",
              "      quickchartButtonEl.classList.remove('colab-df-spinner');\n",
              "      quickchartButtonEl.classList.add('colab-df-quickchart-complete');\n",
              "    }\n",
              "    (() => {\n",
              "      let quickchartButtonEl =\n",
              "        document.querySelector('#df-327b06ab-31ed-4a74-b549-426212b32c15 button');\n",
              "      quickchartButtonEl.style.display =\n",
              "        google.colab.kernel.accessAllowed ? 'block' : 'none';\n",
              "    })();\n",
              "  </script>\n",
              "</div>\n",
              "\n",
              "    </div>\n",
              "  </div>\n"
            ],
            "application/vnd.google.colaboratory.intrinsic+json": {
              "type": "dataframe",
              "variable_name": "df"
            }
          },
          "metadata": {},
          "execution_count": 30
        }
      ]
    },
    {
      "cell_type": "code",
      "source": [
        "df.shape"
      ],
      "metadata": {
        "colab": {
          "base_uri": "https://localhost:8080/"
        },
        "id": "sYISYXAN0j-Z",
        "outputId": "0403c0c9-f469-4fef-a964-c264262389e6"
      },
      "execution_count": 31,
      "outputs": [
        {
          "output_type": "execute_result",
          "data": {
            "text/plain": [
              "(2248619, 2)"
            ]
          },
          "metadata": {},
          "execution_count": 31
        }
      ]
    },
    {
      "cell_type": "markdown",
      "source": [
        "Podemos verificar que esse DataFrame possui mais de 2 milhões de linhas de dados."
      ],
      "metadata": {
        "id": "nBzGRxGd0tLR"
      }
    },
    {
      "cell_type": "markdown",
      "source": [
        "Conforme o escopo do projeto, carregamos apenas os dados de \"title\" e \"content\".\n",
        "\n",
        "\"title\": título do produto\n",
        "\n",
        "\"content\": descrição do produto"
      ],
      "metadata": {
        "id": "_lhHFfr_zkmz"
      }
    },
    {
      "cell_type": "markdown",
      "source": [
        "Podemos verificar logo de início que existem linhas do DataFrame que possuem um \"title\" mas nenhum \"content\". Isso precisa ser tratado."
      ],
      "metadata": {
        "id": "uckPnVW--u-z"
      }
    },
    {
      "cell_type": "code",
      "source": [
        "def contar_vazios_ou_nulos(coluna):\n",
        "    nulos = coluna.isnull().sum()\n",
        "    vazios = (coluna == '').sum()\n",
        "    return nulos + vazios"
      ],
      "metadata": {
        "id": "Qy0ZOadZ6CPo"
      },
      "execution_count": 32,
      "outputs": []
    },
    {
      "cell_type": "code",
      "source": [
        "nulos_vazios_title = contar_vazios_ou_nulos(df['title'])\n",
        "nulos_vazios_content = contar_vazios_ou_nulos(df['content'])\n",
        "\n",
        "print(f\"Valores nulos ou vazios em 'title': {nulos_vazios_title}\")\n",
        "print(f\"Valores nulos ou vazios em 'content': {nulos_vazios_content}\")"
      ],
      "metadata": {
        "colab": {
          "base_uri": "https://localhost:8080/"
        },
        "id": "bAEEAqmL7KZE",
        "outputId": "5ce1f4d3-decd-4baf-ef9d-da7c0333e231"
      },
      "execution_count": 33,
      "outputs": [
        {
          "output_type": "stream",
          "name": "stdout",
          "text": [
            "Valores nulos ou vazios em 'title': 126834\n",
            "Valores nulos ou vazios em 'content': 749901\n"
          ]
        }
      ]
    },
    {
      "cell_type": "markdown",
      "source": [
        "Com os prints acima, podemos verificar que existem vários campos de \"title\" e \"content\" vazios. Essas linhas não nos servirão e precisam ser excluídas."
      ],
      "metadata": {
        "id": "ezwoCi4F-aN8"
      }
    },
    {
      "cell_type": "code",
      "source": [
        "# Excluir registros onde qualquer uma das colunas 'title' ou 'content' contenha string nula ou vazia\n",
        "df = df[(df['title'].str.strip() != '') & (df['content'].str.strip() != '')]"
      ],
      "metadata": {
        "id": "lKDB77b1wAvC"
      },
      "execution_count": 34,
      "outputs": []
    },
    {
      "cell_type": "code",
      "source": [
        "df.head()"
      ],
      "metadata": {
        "id": "zYCc-0aGxcYS",
        "colab": {
          "base_uri": "https://localhost:8080/",
          "height": 206
        },
        "outputId": "d1abbedd-b24a-4553-d2a3-0271c86f5a62"
      },
      "execution_count": 35,
      "outputs": [
        {
          "output_type": "execute_result",
          "data": {
            "text/plain": [
              "                          title  \\\n",
              "0   Girls Ballet Tutu Neon Pink   \n",
              "3                 Mog's Kittens   \n",
              "7   Girls Ballet Tutu Neon Blue   \n",
              "12                  The Prophet   \n",
              "13    Rightly Dividing the Word   \n",
              "\n",
              "                                              content  \n",
              "0   High quality 3 layer ballet tutu. 12 inches in...  \n",
              "3   Judith Kerr’s best–selling adventures of that ...  \n",
              "7   Dance tutu for girls ages 2-8 years. Perfect f...  \n",
              "12  In a distant, timeless place, a mysterious pro...  \n",
              "13         --This text refers to thePaperbackedition.  "
            ],
            "text/html": [
              "\n",
              "  <div id=\"df-07cf2721-559b-49a8-a699-8cdf5de75c60\" class=\"colab-df-container\">\n",
              "    <div>\n",
              "<style scoped>\n",
              "    .dataframe tbody tr th:only-of-type {\n",
              "        vertical-align: middle;\n",
              "    }\n",
              "\n",
              "    .dataframe tbody tr th {\n",
              "        vertical-align: top;\n",
              "    }\n",
              "\n",
              "    .dataframe thead th {\n",
              "        text-align: right;\n",
              "    }\n",
              "</style>\n",
              "<table border=\"1\" class=\"dataframe\">\n",
              "  <thead>\n",
              "    <tr style=\"text-align: right;\">\n",
              "      <th></th>\n",
              "      <th>title</th>\n",
              "      <th>content</th>\n",
              "    </tr>\n",
              "  </thead>\n",
              "  <tbody>\n",
              "    <tr>\n",
              "      <th>0</th>\n",
              "      <td>Girls Ballet Tutu Neon Pink</td>\n",
              "      <td>High quality 3 layer ballet tutu. 12 inches in...</td>\n",
              "    </tr>\n",
              "    <tr>\n",
              "      <th>3</th>\n",
              "      <td>Mog's Kittens</td>\n",
              "      <td>Judith Kerr’s best–selling adventures of that ...</td>\n",
              "    </tr>\n",
              "    <tr>\n",
              "      <th>7</th>\n",
              "      <td>Girls Ballet Tutu Neon Blue</td>\n",
              "      <td>Dance tutu for girls ages 2-8 years. Perfect f...</td>\n",
              "    </tr>\n",
              "    <tr>\n",
              "      <th>12</th>\n",
              "      <td>The Prophet</td>\n",
              "      <td>In a distant, timeless place, a mysterious pro...</td>\n",
              "    </tr>\n",
              "    <tr>\n",
              "      <th>13</th>\n",
              "      <td>Rightly Dividing the Word</td>\n",
              "      <td>--This text refers to thePaperbackedition.</td>\n",
              "    </tr>\n",
              "  </tbody>\n",
              "</table>\n",
              "</div>\n",
              "    <div class=\"colab-df-buttons\">\n",
              "\n",
              "  <div class=\"colab-df-container\">\n",
              "    <button class=\"colab-df-convert\" onclick=\"convertToInteractive('df-07cf2721-559b-49a8-a699-8cdf5de75c60')\"\n",
              "            title=\"Convert this dataframe to an interactive table.\"\n",
              "            style=\"display:none;\">\n",
              "\n",
              "  <svg xmlns=\"http://www.w3.org/2000/svg\" height=\"24px\" viewBox=\"0 -960 960 960\">\n",
              "    <path d=\"M120-120v-720h720v720H120Zm60-500h600v-160H180v160Zm220 220h160v-160H400v160Zm0 220h160v-160H400v160ZM180-400h160v-160H180v160Zm440 0h160v-160H620v160ZM180-180h160v-160H180v160Zm440 0h160v-160H620v160Z\"/>\n",
              "  </svg>\n",
              "    </button>\n",
              "\n",
              "  <style>\n",
              "    .colab-df-container {\n",
              "      display:flex;\n",
              "      gap: 12px;\n",
              "    }\n",
              "\n",
              "    .colab-df-convert {\n",
              "      background-color: #E8F0FE;\n",
              "      border: none;\n",
              "      border-radius: 50%;\n",
              "      cursor: pointer;\n",
              "      display: none;\n",
              "      fill: #1967D2;\n",
              "      height: 32px;\n",
              "      padding: 0 0 0 0;\n",
              "      width: 32px;\n",
              "    }\n",
              "\n",
              "    .colab-df-convert:hover {\n",
              "      background-color: #E2EBFA;\n",
              "      box-shadow: 0px 1px 2px rgba(60, 64, 67, 0.3), 0px 1px 3px 1px rgba(60, 64, 67, 0.15);\n",
              "      fill: #174EA6;\n",
              "    }\n",
              "\n",
              "    .colab-df-buttons div {\n",
              "      margin-bottom: 4px;\n",
              "    }\n",
              "\n",
              "    [theme=dark] .colab-df-convert {\n",
              "      background-color: #3B4455;\n",
              "      fill: #D2E3FC;\n",
              "    }\n",
              "\n",
              "    [theme=dark] .colab-df-convert:hover {\n",
              "      background-color: #434B5C;\n",
              "      box-shadow: 0px 1px 3px 1px rgba(0, 0, 0, 0.15);\n",
              "      filter: drop-shadow(0px 1px 2px rgba(0, 0, 0, 0.3));\n",
              "      fill: #FFFFFF;\n",
              "    }\n",
              "  </style>\n",
              "\n",
              "    <script>\n",
              "      const buttonEl =\n",
              "        document.querySelector('#df-07cf2721-559b-49a8-a699-8cdf5de75c60 button.colab-df-convert');\n",
              "      buttonEl.style.display =\n",
              "        google.colab.kernel.accessAllowed ? 'block' : 'none';\n",
              "\n",
              "      async function convertToInteractive(key) {\n",
              "        const element = document.querySelector('#df-07cf2721-559b-49a8-a699-8cdf5de75c60');\n",
              "        const dataTable =\n",
              "          await google.colab.kernel.invokeFunction('convertToInteractive',\n",
              "                                                    [key], {});\n",
              "        if (!dataTable) return;\n",
              "\n",
              "        const docLinkHtml = 'Like what you see? Visit the ' +\n",
              "          '<a target=\"_blank\" href=https://colab.research.google.com/notebooks/data_table.ipynb>data table notebook</a>'\n",
              "          + ' to learn more about interactive tables.';\n",
              "        element.innerHTML = '';\n",
              "        dataTable['output_type'] = 'display_data';\n",
              "        await google.colab.output.renderOutput(dataTable, element);\n",
              "        const docLink = document.createElement('div');\n",
              "        docLink.innerHTML = docLinkHtml;\n",
              "        element.appendChild(docLink);\n",
              "      }\n",
              "    </script>\n",
              "  </div>\n",
              "\n",
              "\n",
              "<div id=\"df-ce12c0b5-5e38-4658-bc7a-f4ce1b131f5c\">\n",
              "  <button class=\"colab-df-quickchart\" onclick=\"quickchart('df-ce12c0b5-5e38-4658-bc7a-f4ce1b131f5c')\"\n",
              "            title=\"Suggest charts\"\n",
              "            style=\"display:none;\">\n",
              "\n",
              "<svg xmlns=\"http://www.w3.org/2000/svg\" height=\"24px\"viewBox=\"0 0 24 24\"\n",
              "     width=\"24px\">\n",
              "    <g>\n",
              "        <path d=\"M19 3H5c-1.1 0-2 .9-2 2v14c0 1.1.9 2 2 2h14c1.1 0 2-.9 2-2V5c0-1.1-.9-2-2-2zM9 17H7v-7h2v7zm4 0h-2V7h2v10zm4 0h-2v-4h2v4z\"/>\n",
              "    </g>\n",
              "</svg>\n",
              "  </button>\n",
              "\n",
              "<style>\n",
              "  .colab-df-quickchart {\n",
              "      --bg-color: #E8F0FE;\n",
              "      --fill-color: #1967D2;\n",
              "      --hover-bg-color: #E2EBFA;\n",
              "      --hover-fill-color: #174EA6;\n",
              "      --disabled-fill-color: #AAA;\n",
              "      --disabled-bg-color: #DDD;\n",
              "  }\n",
              "\n",
              "  [theme=dark] .colab-df-quickchart {\n",
              "      --bg-color: #3B4455;\n",
              "      --fill-color: #D2E3FC;\n",
              "      --hover-bg-color: #434B5C;\n",
              "      --hover-fill-color: #FFFFFF;\n",
              "      --disabled-bg-color: #3B4455;\n",
              "      --disabled-fill-color: #666;\n",
              "  }\n",
              "\n",
              "  .colab-df-quickchart {\n",
              "    background-color: var(--bg-color);\n",
              "    border: none;\n",
              "    border-radius: 50%;\n",
              "    cursor: pointer;\n",
              "    display: none;\n",
              "    fill: var(--fill-color);\n",
              "    height: 32px;\n",
              "    padding: 0;\n",
              "    width: 32px;\n",
              "  }\n",
              "\n",
              "  .colab-df-quickchart:hover {\n",
              "    background-color: var(--hover-bg-color);\n",
              "    box-shadow: 0 1px 2px rgba(60, 64, 67, 0.3), 0 1px 3px 1px rgba(60, 64, 67, 0.15);\n",
              "    fill: var(--button-hover-fill-color);\n",
              "  }\n",
              "\n",
              "  .colab-df-quickchart-complete:disabled,\n",
              "  .colab-df-quickchart-complete:disabled:hover {\n",
              "    background-color: var(--disabled-bg-color);\n",
              "    fill: var(--disabled-fill-color);\n",
              "    box-shadow: none;\n",
              "  }\n",
              "\n",
              "  .colab-df-spinner {\n",
              "    border: 2px solid var(--fill-color);\n",
              "    border-color: transparent;\n",
              "    border-bottom-color: var(--fill-color);\n",
              "    animation:\n",
              "      spin 1s steps(1) infinite;\n",
              "  }\n",
              "\n",
              "  @keyframes spin {\n",
              "    0% {\n",
              "      border-color: transparent;\n",
              "      border-bottom-color: var(--fill-color);\n",
              "      border-left-color: var(--fill-color);\n",
              "    }\n",
              "    20% {\n",
              "      border-color: transparent;\n",
              "      border-left-color: var(--fill-color);\n",
              "      border-top-color: var(--fill-color);\n",
              "    }\n",
              "    30% {\n",
              "      border-color: transparent;\n",
              "      border-left-color: var(--fill-color);\n",
              "      border-top-color: var(--fill-color);\n",
              "      border-right-color: var(--fill-color);\n",
              "    }\n",
              "    40% {\n",
              "      border-color: transparent;\n",
              "      border-right-color: var(--fill-color);\n",
              "      border-top-color: var(--fill-color);\n",
              "    }\n",
              "    60% {\n",
              "      border-color: transparent;\n",
              "      border-right-color: var(--fill-color);\n",
              "    }\n",
              "    80% {\n",
              "      border-color: transparent;\n",
              "      border-right-color: var(--fill-color);\n",
              "      border-bottom-color: var(--fill-color);\n",
              "    }\n",
              "    90% {\n",
              "      border-color: transparent;\n",
              "      border-bottom-color: var(--fill-color);\n",
              "    }\n",
              "  }\n",
              "</style>\n",
              "\n",
              "  <script>\n",
              "    async function quickchart(key) {\n",
              "      const quickchartButtonEl =\n",
              "        document.querySelector('#' + key + ' button');\n",
              "      quickchartButtonEl.disabled = true;  // To prevent multiple clicks.\n",
              "      quickchartButtonEl.classList.add('colab-df-spinner');\n",
              "      try {\n",
              "        const charts = await google.colab.kernel.invokeFunction(\n",
              "            'suggestCharts', [key], {});\n",
              "      } catch (error) {\n",
              "        console.error('Error during call to suggestCharts:', error);\n",
              "      }\n",
              "      quickchartButtonEl.classList.remove('colab-df-spinner');\n",
              "      quickchartButtonEl.classList.add('colab-df-quickchart-complete');\n",
              "    }\n",
              "    (() => {\n",
              "      let quickchartButtonEl =\n",
              "        document.querySelector('#df-ce12c0b5-5e38-4658-bc7a-f4ce1b131f5c button');\n",
              "      quickchartButtonEl.style.display =\n",
              "        google.colab.kernel.accessAllowed ? 'block' : 'none';\n",
              "    })();\n",
              "  </script>\n",
              "</div>\n",
              "\n",
              "    </div>\n",
              "  </div>\n"
            ],
            "application/vnd.google.colaboratory.intrinsic+json": {
              "type": "dataframe",
              "variable_name": "df"
            }
          },
          "metadata": {},
          "execution_count": 35
        }
      ]
    },
    {
      "cell_type": "code",
      "source": [
        "df.shape"
      ],
      "metadata": {
        "colab": {
          "base_uri": "https://localhost:8080/"
        },
        "id": "gAvtUiUH0fDh",
        "outputId": "d51f744e-7e4f-4003-94a9-18d5ffe54b5c"
      },
      "execution_count": 36,
      "outputs": [
        {
          "output_type": "execute_result",
          "data": {
            "text/plain": [
              "(1390100, 2)"
            ]
          },
          "metadata": {},
          "execution_count": 36
        }
      ]
    },
    {
      "cell_type": "markdown",
      "source": [
        "Após essa limpeza, o número de registros cai para um pouco melhor de 1.5 milhões."
      ],
      "metadata": {
        "id": "jgOo3Ndl0zxV"
      }
    },
    {
      "cell_type": "markdown",
      "source": [
        "Vamos checar também se existem dados duplicados no campo \"title\" e, se necessário, excluí-los.\n",
        "\n",
        "Seria problemático para o nosso modelo seria se houvessem produtos com nomes iguais mas descrições diferentes."
      ],
      "metadata": {
        "id": "LcDOmkFCyuxc"
      }
    },
    {
      "cell_type": "code",
      "source": [
        "# Contar duplicatas no título\n",
        "duplicates_title = df.duplicated(subset='title').sum()\n",
        "\n",
        "print(f\"Número de duplicatas baseadas em 'title': {duplicates_title}\")\n",
        "\n",
        "# Remover duplicatas baseadas no título\n",
        "df = df.drop_duplicates(subset='title')"
      ],
      "metadata": {
        "colab": {
          "base_uri": "https://localhost:8080/"
        },
        "id": "9d7UAIrqy3tg",
        "outputId": "bbcb1ebf-a01d-478b-8979-a934ccbd7bc3"
      },
      "execution_count": 37,
      "outputs": [
        {
          "output_type": "stream",
          "name": "stdout",
          "text": [
            "Número de duplicatas baseadas no 'title': 39961\n"
          ]
        }
      ]
    },
    {
      "cell_type": "code",
      "source": [
        "df.shape"
      ],
      "metadata": {
        "colab": {
          "base_uri": "https://localhost:8080/"
        },
        "id": "pDAN3NRG10Z-",
        "outputId": "7294483d-6d6d-4480-d525-50b76a21155d"
      },
      "execution_count": 38,
      "outputs": [
        {
          "output_type": "execute_result",
          "data": {
            "text/plain": [
              "(1350139, 2)"
            ]
          },
          "metadata": {},
          "execution_count": 38
        }
      ]
    },
    {
      "cell_type": "markdown",
      "source": [
        "Abaixo, vamos deixar os dados um pouco mais consistentes removendo espaços em branco no começo e no final das strings."
      ],
      "metadata": {
        "id": "Xh3qhBxj9qo-"
      }
    },
    {
      "cell_type": "code",
      "source": [
        "# Remover espaços em branco no início e no final\n",
        "df['title'] = df['title'].str.strip()\n",
        "df['content'] = df['content'].str.strip()"
      ],
      "metadata": {
        "id": "qDX9ja8E9NvW"
      },
      "execution_count": 39,
      "outputs": []
    },
    {
      "cell_type": "code",
      "source": [
        "df.head()"
      ],
      "metadata": {
        "colab": {
          "base_uri": "https://localhost:8080/",
          "height": 206
        },
        "id": "ljTiWqF29U7O",
        "outputId": "9b9ccd8a-11f3-4948-f752-97b7f097a411"
      },
      "execution_count": 40,
      "outputs": [
        {
          "output_type": "execute_result",
          "data": {
            "text/plain": [
              "                          title  \\\n",
              "0   Girls Ballet Tutu Neon Pink   \n",
              "3                 Mog's Kittens   \n",
              "7   Girls Ballet Tutu Neon Blue   \n",
              "12                  The Prophet   \n",
              "13    Rightly Dividing the Word   \n",
              "\n",
              "                                              content  \n",
              "0   High quality 3 layer ballet tutu. 12 inches in...  \n",
              "3   Judith Kerr’s best–selling adventures of that ...  \n",
              "7   Dance tutu for girls ages 2-8 years. Perfect f...  \n",
              "12  In a distant, timeless place, a mysterious pro...  \n",
              "13         --This text refers to thePaperbackedition.  "
            ],
            "text/html": [
              "\n",
              "  <div id=\"df-9263a6e4-d929-4ea2-ad48-a75aaaa061ba\" class=\"colab-df-container\">\n",
              "    <div>\n",
              "<style scoped>\n",
              "    .dataframe tbody tr th:only-of-type {\n",
              "        vertical-align: middle;\n",
              "    }\n",
              "\n",
              "    .dataframe tbody tr th {\n",
              "        vertical-align: top;\n",
              "    }\n",
              "\n",
              "    .dataframe thead th {\n",
              "        text-align: right;\n",
              "    }\n",
              "</style>\n",
              "<table border=\"1\" class=\"dataframe\">\n",
              "  <thead>\n",
              "    <tr style=\"text-align: right;\">\n",
              "      <th></th>\n",
              "      <th>title</th>\n",
              "      <th>content</th>\n",
              "    </tr>\n",
              "  </thead>\n",
              "  <tbody>\n",
              "    <tr>\n",
              "      <th>0</th>\n",
              "      <td>Girls Ballet Tutu Neon Pink</td>\n",
              "      <td>High quality 3 layer ballet tutu. 12 inches in...</td>\n",
              "    </tr>\n",
              "    <tr>\n",
              "      <th>3</th>\n",
              "      <td>Mog's Kittens</td>\n",
              "      <td>Judith Kerr’s best–selling adventures of that ...</td>\n",
              "    </tr>\n",
              "    <tr>\n",
              "      <th>7</th>\n",
              "      <td>Girls Ballet Tutu Neon Blue</td>\n",
              "      <td>Dance tutu for girls ages 2-8 years. Perfect f...</td>\n",
              "    </tr>\n",
              "    <tr>\n",
              "      <th>12</th>\n",
              "      <td>The Prophet</td>\n",
              "      <td>In a distant, timeless place, a mysterious pro...</td>\n",
              "    </tr>\n",
              "    <tr>\n",
              "      <th>13</th>\n",
              "      <td>Rightly Dividing the Word</td>\n",
              "      <td>--This text refers to thePaperbackedition.</td>\n",
              "    </tr>\n",
              "  </tbody>\n",
              "</table>\n",
              "</div>\n",
              "    <div class=\"colab-df-buttons\">\n",
              "\n",
              "  <div class=\"colab-df-container\">\n",
              "    <button class=\"colab-df-convert\" onclick=\"convertToInteractive('df-9263a6e4-d929-4ea2-ad48-a75aaaa061ba')\"\n",
              "            title=\"Convert this dataframe to an interactive table.\"\n",
              "            style=\"display:none;\">\n",
              "\n",
              "  <svg xmlns=\"http://www.w3.org/2000/svg\" height=\"24px\" viewBox=\"0 -960 960 960\">\n",
              "    <path d=\"M120-120v-720h720v720H120Zm60-500h600v-160H180v160Zm220 220h160v-160H400v160Zm0 220h160v-160H400v160ZM180-400h160v-160H180v160Zm440 0h160v-160H620v160ZM180-180h160v-160H180v160Zm440 0h160v-160H620v160Z\"/>\n",
              "  </svg>\n",
              "    </button>\n",
              "\n",
              "  <style>\n",
              "    .colab-df-container {\n",
              "      display:flex;\n",
              "      gap: 12px;\n",
              "    }\n",
              "\n",
              "    .colab-df-convert {\n",
              "      background-color: #E8F0FE;\n",
              "      border: none;\n",
              "      border-radius: 50%;\n",
              "      cursor: pointer;\n",
              "      display: none;\n",
              "      fill: #1967D2;\n",
              "      height: 32px;\n",
              "      padding: 0 0 0 0;\n",
              "      width: 32px;\n",
              "    }\n",
              "\n",
              "    .colab-df-convert:hover {\n",
              "      background-color: #E2EBFA;\n",
              "      box-shadow: 0px 1px 2px rgba(60, 64, 67, 0.3), 0px 1px 3px 1px rgba(60, 64, 67, 0.15);\n",
              "      fill: #174EA6;\n",
              "    }\n",
              "\n",
              "    .colab-df-buttons div {\n",
              "      margin-bottom: 4px;\n",
              "    }\n",
              "\n",
              "    [theme=dark] .colab-df-convert {\n",
              "      background-color: #3B4455;\n",
              "      fill: #D2E3FC;\n",
              "    }\n",
              "\n",
              "    [theme=dark] .colab-df-convert:hover {\n",
              "      background-color: #434B5C;\n",
              "      box-shadow: 0px 1px 3px 1px rgba(0, 0, 0, 0.15);\n",
              "      filter: drop-shadow(0px 1px 2px rgba(0, 0, 0, 0.3));\n",
              "      fill: #FFFFFF;\n",
              "    }\n",
              "  </style>\n",
              "\n",
              "    <script>\n",
              "      const buttonEl =\n",
              "        document.querySelector('#df-9263a6e4-d929-4ea2-ad48-a75aaaa061ba button.colab-df-convert');\n",
              "      buttonEl.style.display =\n",
              "        google.colab.kernel.accessAllowed ? 'block' : 'none';\n",
              "\n",
              "      async function convertToInteractive(key) {\n",
              "        const element = document.querySelector('#df-9263a6e4-d929-4ea2-ad48-a75aaaa061ba');\n",
              "        const dataTable =\n",
              "          await google.colab.kernel.invokeFunction('convertToInteractive',\n",
              "                                                    [key], {});\n",
              "        if (!dataTable) return;\n",
              "\n",
              "        const docLinkHtml = 'Like what you see? Visit the ' +\n",
              "          '<a target=\"_blank\" href=https://colab.research.google.com/notebooks/data_table.ipynb>data table notebook</a>'\n",
              "          + ' to learn more about interactive tables.';\n",
              "        element.innerHTML = '';\n",
              "        dataTable['output_type'] = 'display_data';\n",
              "        await google.colab.output.renderOutput(dataTable, element);\n",
              "        const docLink = document.createElement('div');\n",
              "        docLink.innerHTML = docLinkHtml;\n",
              "        element.appendChild(docLink);\n",
              "      }\n",
              "    </script>\n",
              "  </div>\n",
              "\n",
              "\n",
              "<div id=\"df-2305dc45-e54e-49db-a6c3-baca2a1469b0\">\n",
              "  <button class=\"colab-df-quickchart\" onclick=\"quickchart('df-2305dc45-e54e-49db-a6c3-baca2a1469b0')\"\n",
              "            title=\"Suggest charts\"\n",
              "            style=\"display:none;\">\n",
              "\n",
              "<svg xmlns=\"http://www.w3.org/2000/svg\" height=\"24px\"viewBox=\"0 0 24 24\"\n",
              "     width=\"24px\">\n",
              "    <g>\n",
              "        <path d=\"M19 3H5c-1.1 0-2 .9-2 2v14c0 1.1.9 2 2 2h14c1.1 0 2-.9 2-2V5c0-1.1-.9-2-2-2zM9 17H7v-7h2v7zm4 0h-2V7h2v10zm4 0h-2v-4h2v4z\"/>\n",
              "    </g>\n",
              "</svg>\n",
              "  </button>\n",
              "\n",
              "<style>\n",
              "  .colab-df-quickchart {\n",
              "      --bg-color: #E8F0FE;\n",
              "      --fill-color: #1967D2;\n",
              "      --hover-bg-color: #E2EBFA;\n",
              "      --hover-fill-color: #174EA6;\n",
              "      --disabled-fill-color: #AAA;\n",
              "      --disabled-bg-color: #DDD;\n",
              "  }\n",
              "\n",
              "  [theme=dark] .colab-df-quickchart {\n",
              "      --bg-color: #3B4455;\n",
              "      --fill-color: #D2E3FC;\n",
              "      --hover-bg-color: #434B5C;\n",
              "      --hover-fill-color: #FFFFFF;\n",
              "      --disabled-bg-color: #3B4455;\n",
              "      --disabled-fill-color: #666;\n",
              "  }\n",
              "\n",
              "  .colab-df-quickchart {\n",
              "    background-color: var(--bg-color);\n",
              "    border: none;\n",
              "    border-radius: 50%;\n",
              "    cursor: pointer;\n",
              "    display: none;\n",
              "    fill: var(--fill-color);\n",
              "    height: 32px;\n",
              "    padding: 0;\n",
              "    width: 32px;\n",
              "  }\n",
              "\n",
              "  .colab-df-quickchart:hover {\n",
              "    background-color: var(--hover-bg-color);\n",
              "    box-shadow: 0 1px 2px rgba(60, 64, 67, 0.3), 0 1px 3px 1px rgba(60, 64, 67, 0.15);\n",
              "    fill: var(--button-hover-fill-color);\n",
              "  }\n",
              "\n",
              "  .colab-df-quickchart-complete:disabled,\n",
              "  .colab-df-quickchart-complete:disabled:hover {\n",
              "    background-color: var(--disabled-bg-color);\n",
              "    fill: var(--disabled-fill-color);\n",
              "    box-shadow: none;\n",
              "  }\n",
              "\n",
              "  .colab-df-spinner {\n",
              "    border: 2px solid var(--fill-color);\n",
              "    border-color: transparent;\n",
              "    border-bottom-color: var(--fill-color);\n",
              "    animation:\n",
              "      spin 1s steps(1) infinite;\n",
              "  }\n",
              "\n",
              "  @keyframes spin {\n",
              "    0% {\n",
              "      border-color: transparent;\n",
              "      border-bottom-color: var(--fill-color);\n",
              "      border-left-color: var(--fill-color);\n",
              "    }\n",
              "    20% {\n",
              "      border-color: transparent;\n",
              "      border-left-color: var(--fill-color);\n",
              "      border-top-color: var(--fill-color);\n",
              "    }\n",
              "    30% {\n",
              "      border-color: transparent;\n",
              "      border-left-color: var(--fill-color);\n",
              "      border-top-color: var(--fill-color);\n",
              "      border-right-color: var(--fill-color);\n",
              "    }\n",
              "    40% {\n",
              "      border-color: transparent;\n",
              "      border-right-color: var(--fill-color);\n",
              "      border-top-color: var(--fill-color);\n",
              "    }\n",
              "    60% {\n",
              "      border-color: transparent;\n",
              "      border-right-color: var(--fill-color);\n",
              "    }\n",
              "    80% {\n",
              "      border-color: transparent;\n",
              "      border-right-color: var(--fill-color);\n",
              "      border-bottom-color: var(--fill-color);\n",
              "    }\n",
              "    90% {\n",
              "      border-color: transparent;\n",
              "      border-bottom-color: var(--fill-color);\n",
              "    }\n",
              "  }\n",
              "</style>\n",
              "\n",
              "  <script>\n",
              "    async function quickchart(key) {\n",
              "      const quickchartButtonEl =\n",
              "        document.querySelector('#' + key + ' button');\n",
              "      quickchartButtonEl.disabled = true;  // To prevent multiple clicks.\n",
              "      quickchartButtonEl.classList.add('colab-df-spinner');\n",
              "      try {\n",
              "        const charts = await google.colab.kernel.invokeFunction(\n",
              "            'suggestCharts', [key], {});\n",
              "      } catch (error) {\n",
              "        console.error('Error during call to suggestCharts:', error);\n",
              "      }\n",
              "      quickchartButtonEl.classList.remove('colab-df-spinner');\n",
              "      quickchartButtonEl.classList.add('colab-df-quickchart-complete');\n",
              "    }\n",
              "    (() => {\n",
              "      let quickchartButtonEl =\n",
              "        document.querySelector('#df-2305dc45-e54e-49db-a6c3-baca2a1469b0 button');\n",
              "      quickchartButtonEl.style.display =\n",
              "        google.colab.kernel.accessAllowed ? 'block' : 'none';\n",
              "    })();\n",
              "  </script>\n",
              "</div>\n",
              "\n",
              "    </div>\n",
              "  </div>\n"
            ],
            "application/vnd.google.colaboratory.intrinsic+json": {
              "type": "dataframe",
              "variable_name": "df"
            }
          },
          "metadata": {},
          "execution_count": 40
        }
      ]
    },
    {
      "cell_type": "markdown",
      "source": [
        "## Dividindo os dados"
      ],
      "metadata": {
        "id": "8Du69UfXiFdx"
      }
    },
    {
      "cell_type": "markdown",
      "source": [
        "Nosso dataset é grande demais para ser treino de uma vez só.\n",
        "\n",
        "Vamos optar por dividi-lo em partes e treino-lo separadamente nos próximos notebooks.\n",
        "\n",
        "No bloco abaixo nós definimos um número de linhas por arquivo e chamamos uma função que irá dividir o DataFrame e salvo-lo em partes em uma pasta do Google Drive."
      ],
      "metadata": {
        "id": "rRfnxDMciH7A"
      }
    },
    {
      "cell_type": "code",
      "source": [
        "# Função para dividir o DataFrame e salvar em arquivos JSON\n",
        "def dividir_e_salvar_em_json(df, linhas_por_arquivo, pasta_destino):\n",
        "    # Total de partes\n",
        "    total_partes = (len(df) // linhas_por_arquivo) + 1\n",
        "\n",
        "    for i in range(total_partes):\n",
        "        # Definir o intervalo para cada pedaço\n",
        "        inicio = i * linhas_por_arquivo\n",
        "        fim = (i + 1) * linhas_por_arquivo\n",
        "\n",
        "        # Extrair a parte do DataFrame\n",
        "        df_pedaco = df.iloc[inicio:fim]\n",
        "\n",
        "        # Definir o nome do arquivo JSON (exemplo: trn_100k_1.json, trn_100k_2.json, etc.)\n",
        "        nome_arquivo = f'{pasta_destino}trn_100k_{i+1}.json'\n",
        "\n",
        "        # Converter a parte do DataFrame para JSON e salvar\n",
        "        df_pedaco.to_json(nome_arquivo, orient='records', lines=True, force_ascii=False)\n",
        "\n",
        "        print(f'Arquivo {nome_arquivo} salvo com sucesso!')"
      ],
      "metadata": {
        "id": "4uXVSMkWg65t"
      },
      "execution_count": 41,
      "outputs": []
    },
    {
      "cell_type": "code",
      "source": [
        "# Número máximo de linhas por arquivo\n",
        "linhas_por_arquivo = 100000\n",
        "\n",
        "pasta_destino = '/content/drive/My Drive/FIAP/IA_para_Devs/Tech_Challenge_3/'\n",
        "\n",
        "# Chamar a função para dividir e salvar\n",
        "dividir_e_salvar_em_json(df, linhas_por_arquivo, pasta_destino)"
      ],
      "metadata": {
        "colab": {
          "base_uri": "https://localhost:8080/"
        },
        "id": "aNYPyfYXg8z9",
        "outputId": "248b4bbf-5119-49d7-ef3d-ea9b4987942d"
      },
      "execution_count": 42,
      "outputs": [
        {
          "output_type": "stream",
          "name": "stdout",
          "text": [
            "Arquivo /content/drive/My Drive/FIAP/IA_para_Devs/Tech_Challenge_3/trn_100k_1.json salvo com sucesso!\n",
            "Arquivo /content/drive/My Drive/FIAP/IA_para_Devs/Tech_Challenge_3/trn_100k_2.json salvo com sucesso!\n",
            "Arquivo /content/drive/My Drive/FIAP/IA_para_Devs/Tech_Challenge_3/trn_100k_3.json salvo com sucesso!\n",
            "Arquivo /content/drive/My Drive/FIAP/IA_para_Devs/Tech_Challenge_3/trn_100k_4.json salvo com sucesso!\n",
            "Arquivo /content/drive/My Drive/FIAP/IA_para_Devs/Tech_Challenge_3/trn_100k_5.json salvo com sucesso!\n",
            "Arquivo /content/drive/My Drive/FIAP/IA_para_Devs/Tech_Challenge_3/trn_100k_6.json salvo com sucesso!\n",
            "Arquivo /content/drive/My Drive/FIAP/IA_para_Devs/Tech_Challenge_3/trn_100k_7.json salvo com sucesso!\n",
            "Arquivo /content/drive/My Drive/FIAP/IA_para_Devs/Tech_Challenge_3/trn_100k_8.json salvo com sucesso!\n",
            "Arquivo /content/drive/My Drive/FIAP/IA_para_Devs/Tech_Challenge_3/trn_100k_9.json salvo com sucesso!\n",
            "Arquivo /content/drive/My Drive/FIAP/IA_para_Devs/Tech_Challenge_3/trn_100k_10.json salvo com sucesso!\n",
            "Arquivo /content/drive/My Drive/FIAP/IA_para_Devs/Tech_Challenge_3/trn_100k_11.json salvo com sucesso!\n",
            "Arquivo /content/drive/My Drive/FIAP/IA_para_Devs/Tech_Challenge_3/trn_100k_12.json salvo com sucesso!\n",
            "Arquivo /content/drive/My Drive/FIAP/IA_para_Devs/Tech_Challenge_3/trn_100k_13.json salvo com sucesso!\n",
            "Arquivo /content/drive/My Drive/FIAP/IA_para_Devs/Tech_Challenge_3/trn_100k_14.json salvo com sucesso!\n"
          ]
        }
      ]
    }
  ]
}